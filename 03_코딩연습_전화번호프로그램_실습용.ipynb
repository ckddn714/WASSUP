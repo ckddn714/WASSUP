{
 "cells": [
  {
   "cell_type": "markdown",
   "metadata": {},
   "source": [
    "# 전화번호 프로그램 만들기\n",
    "\n",
    "* 홍길동 010-123-4567\n",
    "* 기능1 : 연락처 추가\n",
    "* 기능2 : 연락처 전체 보기\n",
    "* 기능3 : 검색, 이름을 입력받아서 전화번호 조회\n",
    "* 기능4 : 수정, 이름을 입력받아서 전화번호 입력수정\n",
    "* 기능5 : 삭제, 이름 입력받아서 삭제\n",
    "* 기능6 : 프로그램 종료"
   ]
  },
  {
   "cell_type": "markdown",
   "metadata": {},
   "source": [
    "## 내 풀이"
   ]
  },
  {
   "cell_type": "code",
   "execution_count": 4,
   "metadata": {
    "scrolled": true
   },
   "outputs": [
    {
     "name": "stdout",
     "output_type": "stream",
     "text": [
      "------------ 전화번호 프로그램을 시작합니다. ------------\n",
      "기능 설명: name은 이름을, number는 전화번호를 의미합니다.\n",
      "---------------------------------------------------------\n",
      "연락처 추가: add_number(name, number)\n",
      "연락처 전체 보기: view_all()\n",
      "전화번호 검색: find_number(name)\n",
      "전화번호 수정: fix_number(name, number)\n",
      "연락처 삭제: del_number(name)\n",
      "프로그램 종료: end_program()\n",
      "---------------------------------------------------------\n"
     ]
    }
   ],
   "source": [
    "phone_number = {}\n",
    "\n",
    "print('------------ 전화번호 프로그램을 시작합니다. ------------')\n",
    "print('기능 설명: name은 이름을, number는 전화번호를 의미합니다.')\n",
    "print('---------------------------------------------------------')\n",
    "print('연락처 추가: add_number(name, number)')\n",
    "print('연락처 전체 보기: view_all()')\n",
    "print('전화번호 검색: find_number(name)')\n",
    "print('전화번호 수정: fix_number(name, number)')\n",
    "print('연락처 삭제: del_number(name)')\n",
    "print('프로그램 종료: end_program()')\n",
    "print('---------------------------------------------------------')\n",
    "\n",
    "# 기능1: 연락처 추가\n",
    "def add_number(name, number):\n",
    "    phone_number[name] = number\n",
    "\n",
    "# 기능2: 연락처 전체 보기\n",
    "def view_all():\n",
    "    print(phone_number)\n",
    "\n",
    "# 기능3: 검색, 이름을 입력받아서 전화번호 조회\n",
    "def find_number(name):\n",
    "    print(phone_number[name])\n",
    "\n",
    "# 기능4 : 수정, 이름을 입력받아서 전화번호 입력수정\n",
    "def fix_number(name, number):\n",
    "    phone_number[name] = number\n",
    "\n",
    "# 기능5 : 삭제, 이름 입력받아서 삭제\n",
    "def del_number(name):\n",
    "    del(phone_number[name])\n",
    "    \n",
    "# 기능6 : 프로그램 종료\n",
    "def end_program():\n",
    "    exit()"
   ]
  },
  {
   "cell_type": "code",
   "execution_count": 5,
   "metadata": {},
   "outputs": [
    {
     "name": "stdout",
     "output_type": "stream",
     "text": [
      "{'윤창우': '010-3007-7061'}\n"
     ]
    }
   ],
   "source": [
    "add_number('윤창우', '010-3007-7061')\n",
    "view_all()"
   ]
  },
  {
   "cell_type": "code",
   "execution_count": 6,
   "metadata": {},
   "outputs": [
    {
     "name": "stdout",
     "output_type": "stream",
     "text": [
      "010-3007-7061\n"
     ]
    }
   ],
   "source": [
    "find_number('윤창우')"
   ]
  },
  {
   "cell_type": "code",
   "execution_count": 7,
   "metadata": {
    "scrolled": true
   },
   "outputs": [
    {
     "name": "stdout",
     "output_type": "stream",
     "text": [
      "{'윤창우': '010-1234-5678'}\n"
     ]
    }
   ],
   "source": [
    "fix_number('윤창우','010-1234-5678')\n",
    "view_all()"
   ]
  },
  {
   "cell_type": "code",
   "execution_count": 8,
   "metadata": {},
   "outputs": [
    {
     "name": "stdout",
     "output_type": "stream",
     "text": [
      "{}\n"
     ]
    }
   ],
   "source": [
    "del_number('윤창우')\n",
    "view_all()"
   ]
  },
  {
   "cell_type": "markdown",
   "metadata": {},
   "source": [
    "## 강사님 풀이"
   ]
  },
  {
   "cell_type": "code",
   "execution_count": null,
   "metadata": {},
   "outputs": [],
   "source": []
  }
 ],
 "metadata": {
  "kernelspec": {
   "display_name": "Python 3 (ipykernel)",
   "language": "python",
   "name": "python3"
  },
  "language_info": {
   "codemirror_mode": {
    "name": "ipython",
    "version": 3
   },
   "file_extension": ".py",
   "mimetype": "text/x-python",
   "name": "python",
   "nbconvert_exporter": "python",
   "pygments_lexer": "ipython3",
   "version": "3.11.5"
  },
  "toc": {
   "base_numbering": 1,
   "nav_menu": {},
   "number_sections": true,
   "sideBar": true,
   "skip_h1_title": false,
   "title_cell": "Table of Contents",
   "title_sidebar": "Contents",
   "toc_cell": false,
   "toc_position": {},
   "toc_section_display": true,
   "toc_window_display": false
  },
  "varInspector": {
   "cols": {
    "lenName": 16,
    "lenType": 16,
    "lenVar": 40
   },
   "kernels_config": {
    "python": {
     "delete_cmd_postfix": "",
     "delete_cmd_prefix": "del ",
     "library": "var_list.py",
     "varRefreshCmd": "print(var_dic_list())"
    },
    "r": {
     "delete_cmd_postfix": ") ",
     "delete_cmd_prefix": "rm(",
     "library": "var_list.r",
     "varRefreshCmd": "cat(var_dic_list()) "
    }
   },
   "types_to_exclude": [
    "module",
    "function",
    "builtin_function_or_method",
    "instance",
    "_Feature"
   ],
   "window_display": false
  }
 },
 "nbformat": 4,
 "nbformat_minor": 2
}

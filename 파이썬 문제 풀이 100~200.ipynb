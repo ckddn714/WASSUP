{
 "cells": [
  {
   "cell_type": "code",
   "execution_count": null,
   "id": "bdf162de",
   "metadata": {},
   "outputs": [],
   "source": [
    "#101 파이썬에서 True 혹은 False를 갖는 데이터 타입은 무엇인가?\n",
    "\n",
    "# 정답: bool 타입"
   ]
  },
  {
   "cell_type": "code",
   "execution_count": 1,
   "id": "4ae9d9ea",
   "metadata": {},
   "outputs": [
    {
     "name": "stdout",
     "output_type": "stream",
     "text": [
      "False\n"
     ]
    }
   ],
   "source": [
    "#102 아래 코드의 출력 결과를 예상하라\n",
    "\n",
    "print(3 == 5) \n",
    "\n",
    "#정답:False"
   ]
  },
  {
   "cell_type": "code",
   "execution_count": 2,
   "id": "de2ca213",
   "metadata": {},
   "outputs": [
    {
     "name": "stdout",
     "output_type": "stream",
     "text": [
      "True\n"
     ]
    }
   ],
   "source": [
    "#103 아래 코드의 출력 결과를 예상하라\n",
    "\n",
    "print(3 < 5)\n",
    "\n",
    "#정답:True"
   ]
  },
  {
   "cell_type": "code",
   "execution_count": 3,
   "id": "5ef23110",
   "metadata": {},
   "outputs": [
    {
     "name": "stdout",
     "output_type": "stream",
     "text": [
      "True\n"
     ]
    }
   ],
   "source": [
    "#104 아래 코드의 출력 결과를 예상하라\n",
    "\n",
    "x = 4\n",
    "print(1 < x < 5)\n",
    "\n",
    "#정답:True"
   ]
  },
  {
   "cell_type": "code",
   "execution_count": 4,
   "id": "fab3fb3a",
   "metadata": {},
   "outputs": [
    {
     "name": "stdout",
     "output_type": "stream",
     "text": [
      "True\n"
     ]
    }
   ],
   "source": [
    "#105 아래 코드의 출력 결과를 예상하라\n",
    "\n",
    "print ((3 == 3) and (4 != 3))\n",
    "\n",
    "#정답:True"
   ]
  },
  {
   "cell_type": "code",
   "execution_count": 7,
   "id": "adf1eba8",
   "metadata": {},
   "outputs": [
    {
     "ename": "SyntaxError",
     "evalue": "expression cannot contain assignment, perhaps you meant \"==\"? (2358408263.py, line 3)",
     "output_type": "error",
     "traceback": [
      "\u001b[1;36m  Cell \u001b[1;32mIn[7], line 3\u001b[1;36m\u001b[0m\n\u001b[1;33m    print(3 => 4)\u001b[0m\n\u001b[1;37m          ^\u001b[0m\n\u001b[1;31mSyntaxError\u001b[0m\u001b[1;31m:\u001b[0m expression cannot contain assignment, perhaps you meant \"==\"?\n"
     ]
    }
   ],
   "source": [
    "#106 아래 코드에서 에러가 발생하는 원인에 대해 설명하라.\n",
    "\n",
    "print(3 => 4) \n",
    "\n",
    "#정답: 잘못된 기호 사용 =>가 아니라 >=를 사용해야 한다. "
   ]
  },
  {
   "cell_type": "code",
   "execution_count": 8,
   "id": "df10554e",
   "metadata": {},
   "outputs": [],
   "source": [
    "#107 아래 코드의 출력 결과를 예상하라\n",
    "\n",
    "if 4 < 3:\n",
    "    print(\"Hello World\")\n",
    "    \n",
    "#정답: 4 < 3의 값은 False이므로 아무일도 일어나지 않음 "
   ]
  },
  {
   "cell_type": "code",
   "execution_count": 9,
   "id": "cd2f00c1",
   "metadata": {},
   "outputs": [
    {
     "name": "stdout",
     "output_type": "stream",
     "text": [
      "Hi, there.\n"
     ]
    }
   ],
   "source": [
    "#108 아래 코드의 출력 결과를 예상하라\n",
    "\n",
    "if 4 < 3:\n",
    "    print(\"Hello World.\")\n",
    "else:\n",
    "    print(\"Hi, there.\")\n",
    "\n",
    "#정답: Hi, there."
   ]
  },
  {
   "cell_type": "code",
   "execution_count": 10,
   "id": "31ccefc4",
   "metadata": {},
   "outputs": [
    {
     "name": "stdout",
     "output_type": "stream",
     "text": [
      "1\n",
      "2\n"
     ]
    }
   ],
   "source": [
    "#109 아래 코드의 출력 결과를 예상하라\n",
    "\n",
    "if True :\n",
    "    print (\"1\")\n",
    "    print (\"2\")\n",
    "else :\n",
    "    print(\"3\")\n",
    "    print(\"4\")\n",
    "\n",
    "#정답: 1 2"
   ]
  },
  {
   "cell_type": "code",
   "execution_count": 11,
   "id": "431f2f4d",
   "metadata": {},
   "outputs": [
    {
     "name": "stdout",
     "output_type": "stream",
     "text": [
      "3\n"
     ]
    }
   ],
   "source": [
    "#110 아래 코드의 출력 결과를 예상하라\n",
    "\n",
    "if True :\n",
    "    if False:\n",
    "        print(\"1\")\n",
    "        print(\"2\")\n",
    "    else:\n",
    "        print(\"3\")\n",
    "else :\n",
    "    print(\"4\")\n",
    "    print(\"5\")\n",
    "\n",
    "#정답: 3"
   ]
  },
  {
   "cell_type": "code",
   "execution_count": 3,
   "id": "e60673d8",
   "metadata": {},
   "outputs": [
    {
     "name": "stdout",
     "output_type": "stream",
     "text": [
      "문자열을 입력하세요:안녕하세요\n",
      "안녕하세요안녕하세요\n"
     ]
    }
   ],
   "source": [
    "#111 사용자로부터 입력받은 문자열을 두 번 출력하라.\n",
    "\n",
    "word = input(\"문자열을 입력하세요:\")\n",
    "print(word * 2)"
   ]
  },
  {
   "cell_type": "code",
   "execution_count": 5,
   "id": "82da2c27",
   "metadata": {},
   "outputs": [
    {
     "name": "stdout",
     "output_type": "stream",
     "text": [
      "숫자를 입력하세요:100\n",
      "110\n"
     ]
    }
   ],
   "source": [
    "#112 사용자로부터 하나의 숫자를 입력받고, 입력 받은 숫자에 10을 더해 출력하라.\n",
    "\n",
    "number = input(\"숫자를 입력하세요:\")\n",
    "print(int(number) + 10)"
   ]
  },
  {
   "cell_type": "code",
   "execution_count": 10,
   "id": "62e4c4dc",
   "metadata": {},
   "outputs": [
    {
     "name": "stdout",
     "output_type": "stream",
     "text": [
      "숫자를 입력하세요: 101\n",
      "입력한 숫자는 홀수입니다.\n"
     ]
    }
   ],
   "source": [
    "#113 사용자로부터 하나의 숫자를 입력 받고 짝수/홀수를 판별하라.\n",
    "\n",
    "number = int(input(\"숫자를 입력하세요: \"))\n",
    "\n",
    "if number % 2 == 0:\n",
    "    print(\"입력한 숫자는 짝수입니다.\")\n",
    "else:\n",
    "    print(\"입력한 숫자는 홀수입니다.\")"
   ]
  },
  {
   "cell_type": "code",
   "execution_count": 13,
   "id": "aca4e8d6",
   "metadata": {},
   "outputs": [
    {
     "name": "stdout",
     "output_type": "stream",
     "text": [
      "숫자를 입력하세요: 37\n",
      "57\n"
     ]
    }
   ],
   "source": [
    "#114 사용자로부터 값을 입력받은 후 해당 값에 20을 더한 값을 출력하라. \n",
    "#단 사용자가 입력한 값과 20을 더한 계산 값이 255를 초과하는 경우 255를 출력해야 한다.\n",
    "\n",
    "number = int(input(\"숫자를 입력하세요: \"))\n",
    "\n",
    "if number + 20 <= 255:\n",
    "    print(number + 20)\n",
    "else:\n",
    "    print(255)"
   ]
  },
  {
   "cell_type": "code",
   "execution_count": 16,
   "id": "d8e52559",
   "metadata": {},
   "outputs": [
    {
     "name": "stdout",
     "output_type": "stream",
     "text": [
      "숫자를 입력하세요: 2222\n",
      "255\n"
     ]
    }
   ],
   "source": [
    "#115 사용자로부터 하나의 값을 입력받은 후 해당 값에 20을 뺀 값을 출력하라. 단 출력 값의 범위는 0~255이다. \n",
    "# 예를 들어 결괏값이 0보다 작은 값이되는 경우 0을 출력하고 255보다 큰 값이 되는 경우 255를 출력해야 한다.\n",
    "\n",
    "number = int(input(\"숫자를 입력하세요: \"))\n",
    "\n",
    "if number - 20 > 255:\n",
    "    print(255)\n",
    "elif number - 20 < 0:\n",
    "    print(0)\n",
    "else:\n",
    "    print(number - 20)"
   ]
  },
  {
   "cell_type": "code",
   "execution_count": 17,
   "id": "293a3f30",
   "metadata": {},
   "outputs": [
    {
     "name": "stdout",
     "output_type": "stream",
     "text": [
      "시간을 입력하세요: 10:30\n",
      "정각 아님\n"
     ]
    }
   ],
   "source": [
    "#116 사용자로부터 입력 받은 시간이 정각인지 판별하라.\n",
    "\n",
    "time = input(\"시간을 입력하세요: \")\n",
    "\n",
    "if time[-2:] == 00:\n",
    "    print('정각')\n",
    "else:\n",
    "    print(\"정각 아님\")"
   ]
  },
  {
   "cell_type": "code",
   "execution_count": 19,
   "id": "0d19ab56",
   "metadata": {},
   "outputs": [
    {
     "name": "stdout",
     "output_type": "stream",
     "text": [
      "과일 이름을 입력하세요: 샤인머스캣\n",
      "오답입니다.\n"
     ]
    }
   ],
   "source": [
    "#117 사용자로 입력받은 단어가 아래 fruit 리스트에 포함되어 있는지를 확인하라. \n",
    "# 포함되었다면 \"정답입니다\"를 아닐 경우 \"오답입니다\" 출력하라.\n",
    "\n",
    "fruit = [\"사과\", \"포도\", \"홍시\"]\n",
    "\n",
    "fruit_name = input(\"과일 이름을 입력하세요: \")\n",
    "\n",
    "if fruit_name in fruit:\n",
    "    print(\"정답입니다.\")\n",
    "else:\n",
    "    print(\"오답입니다.\")"
   ]
  },
  {
   "cell_type": "code",
   "execution_count": 20,
   "id": "c37166d0",
   "metadata": {},
   "outputs": [
    {
     "name": "stdout",
     "output_type": "stream",
     "text": [
      "종목명을 입력하세요: nexon\n",
      "투자 경고 종목이 아닙니다.\n"
     ]
    }
   ],
   "source": [
    "#118 투자 경고 종목 리스트가 있을 때 사용자로부터 종목명을 입력 받은 후 \n",
    "# 해당 종목이 투자 경고 종목이라면 '투자 경고 종목입니다'를 \n",
    "# 아니면 \"투자 경고 종목이 아닙니다.\"를 출력하는 프로그램을 작성하라.\n",
    "\n",
    "warn_investment_list = [\"Microsoft\", \"Google\", \"Naver\", \"Kakao\", \"SAMSUNG\", \"LG\"]\n",
    "\n",
    "invest_name = input(\"종목명을 입력하세요: \")\n",
    "\n",
    "if invest_name in warn_investment_list:\n",
    "    print(\"투자 경고 종목입니다.\")\n",
    "else: \n",
    "    print(\"투자 경고 종목이 아닙니다.\")"
   ]
  },
  {
   "cell_type": "code",
   "execution_count": 1,
   "id": "d6db241c",
   "metadata": {},
   "outputs": [
    {
     "name": "stdout",
     "output_type": "stream",
     "text": [
      "계절을 입력하세요: 늦여름\n",
      "오답입니다.\n"
     ]
    }
   ],
   "source": [
    "#119 아래와 같이 fruit 딕셔너리가 정의되어 있다. \n",
    "# 사용자가 입력한 값이 딕셔너리 키 (key) 값에 포함되었다면 \"정답입니다\"를 아닐 경우 \"오답입니다\" 출력하라.\n",
    "\n",
    "fruit = {\"봄\" : \"딸기\", \"여름\" : \"토마토\", \"가을\" : \"사과\"}\n",
    "\n",
    "season = input(\"계절을 입력하세요: \")\n",
    "\n",
    "if season in fruit.keys():\n",
    "    print(\"정답입니다.\")\n",
    "else:\n",
    "    print(\"오답입니다.\")"
   ]
  },
  {
   "cell_type": "code",
   "execution_count": 5,
   "id": "5ac43923",
   "metadata": {},
   "outputs": [
    {
     "name": "stdout",
     "output_type": "stream",
     "text": [
      "좋아하는 과일을 입력하세요: 천도복숭아\n",
      "오답입니다.\n"
     ]
    }
   ],
   "source": [
    "#120 아래와 같이 fruit 딕셔너리가 정의되어 있다. \n",
    "#사용자가 입력한 값이 딕셔너리 값 (value)에 포함되었다면 \"정답입니다\"를 아닐 경우 \"오답입니다\" 출력하라.\n",
    "\n",
    "fruit = {\"봄\" : \"딸기\", \"여름\" : \"토마토\", \"가을\" : \"사과\"}\n",
    "\n",
    "fruit_like = input('좋아하는 과일을 입력하세요: ')\n",
    "\n",
    "if fruit_like in fruit.values():\n",
    "    print(\"정답입니다.\")\n",
    "else:\n",
    "    print(\"오답입니다.\")"
   ]
  },
  {
   "cell_type": "code",
   "execution_count": 12,
   "id": "5746abef",
   "metadata": {},
   "outputs": [
    {
     "name": "stdout",
     "output_type": "stream",
     "text": [
      "문자 한 개를 입력하세요: C\n",
      "c\n"
     ]
    }
   ],
   "source": [
    "#121 사용자로부터 문자 한 개를 입력 받고, 소문자일 경우 대문자로, 대문자 일 경우, 소문자로 변경해서 출력하라.\n",
    "\n",
    "word = input(\"문자 한 개를 입력하세요: \")\n",
    "\n",
    "if word.islower() == True:\n",
    "    print(word.upper())\n",
    "else:\n",
    "    print(word.lower())"
   ]
  },
  {
   "cell_type": "code",
   "execution_count": 14,
   "id": "06ab1cc8",
   "metadata": {},
   "outputs": [
    {
     "name": "stdout",
     "output_type": "stream",
     "text": [
      "점수를 입력하세요: 11\n",
      "E\n"
     ]
    }
   ],
   "source": [
    "#122 점수 구간에 해당하는 학점이 아래와 같이 정의되어 있다. 사용자로부터 score를 입력받아 학점을 출력하라.\n",
    "\n",
    "score = int(input(\"점수를 입력하세요: \"))\n",
    "\n",
    "if 81 <= score <= 100:\n",
    "    print('A')\n",
    "elif 61 <= score <= 80:\n",
    "    print('B')\n",
    "elif 41 <= score <= 60:\n",
    "    print('C')\n",
    "elif 21 <= score <= 40:\n",
    "    print('D')\n",
    "else:\n",
    "    print('E')"
   ]
  },
  {
   "cell_type": "code",
   "execution_count": null,
   "id": "17fb1430",
   "metadata": {},
   "outputs": [],
   "source": [
    "#123 사용자로부터 달러, 엔, 유로, 또는 위안 금액을 입력받은 후 이를 원으로 변환하는 프로그램을 작성하라.  \n",
    "#사용자는 100 달러, 1000 엔, 13 유로, 100 위안과 같이 금액과 통화명 사이에 공백을 넣어 입력한다고 가정한다.\n",
    "\n"
   ]
  },
  {
   "cell_type": "code",
   "execution_count": null,
   "id": "ae286766",
   "metadata": {},
   "outputs": [],
   "source": []
  },
  {
   "cell_type": "code",
   "execution_count": null,
   "id": "ef4e0d53",
   "metadata": {},
   "outputs": [],
   "source": []
  },
  {
   "cell_type": "code",
   "execution_count": null,
   "id": "291380c5",
   "metadata": {},
   "outputs": [],
   "source": []
  },
  {
   "cell_type": "code",
   "execution_count": null,
   "id": "0f6319d8",
   "metadata": {},
   "outputs": [],
   "source": []
  },
  {
   "cell_type": "code",
   "execution_count": null,
   "id": "399eb18a",
   "metadata": {},
   "outputs": [],
   "source": []
  },
  {
   "cell_type": "code",
   "execution_count": null,
   "id": "29bfd41c",
   "metadata": {},
   "outputs": [],
   "source": []
  },
  {
   "cell_type": "code",
   "execution_count": null,
   "id": "81aa9206",
   "metadata": {},
   "outputs": [],
   "source": []
  }
 ],
 "metadata": {
  "kernelspec": {
   "display_name": "Python 3 (ipykernel)",
   "language": "python",
   "name": "python3"
  },
  "language_info": {
   "codemirror_mode": {
    "name": "ipython",
    "version": 3
   },
   "file_extension": ".py",
   "mimetype": "text/x-python",
   "name": "python",
   "nbconvert_exporter": "python",
   "pygments_lexer": "ipython3",
   "version": "3.11.5"
  },
  "toc": {
   "base_numbering": 1,
   "nav_menu": {},
   "number_sections": true,
   "sideBar": true,
   "skip_h1_title": false,
   "title_cell": "Table of Contents",
   "title_sidebar": "Contents",
   "toc_cell": false,
   "toc_position": {},
   "toc_section_display": true,
   "toc_window_display": false
  }
 },
 "nbformat": 4,
 "nbformat_minor": 5
}
